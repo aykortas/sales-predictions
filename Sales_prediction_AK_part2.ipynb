{
  "nbformat": 4,
  "nbformat_minor": 0,
  "metadata": {
    "colab": {
      "provenance": [],
      "toc_visible": true,
      "authorship_tag": "ABX9TyMzEAmLD/vTzlTJUK03ukuy",
      "include_colab_link": true
    },
    "kernelspec": {
      "name": "python3",
      "display_name": "Python 3"
    },
    "language_info": {
      "name": "python"
    }
  },
  "cells": [
    {
      "cell_type": "markdown",
      "metadata": {
        "id": "view-in-github",
        "colab_type": "text"
      },
      "source": [
        "<a href=\"https://colab.research.google.com/github/aykortas/sales-predictions/blob/main/Sales_prediction_AK_part2.ipynb\" target=\"_parent\"><img src=\"https://colab.research.google.com/assets/colab-badge.svg\" alt=\"Open In Colab\"/></a>"
      ]
    },
    {
      "cell_type": "code",
      "execution_count": 51,
      "metadata": {
        "colab": {
          "base_uri": "https://localhost:8080/",
          "height": 357
        },
        "id": "EMgw1OmtTAhn",
        "outputId": "4b411d66-48e6-4d28-8e60-fa6569016941"
      },
      "outputs": [
        {
          "output_type": "execute_result",
          "data": {
            "text/plain": [
              "  Item_Identifier  Item_Weight Item_Fat_Content  Item_Visibility  \\\n",
              "0           FDA15         9.30          Low Fat         0.016047   \n",
              "1           DRC01         5.92          Regular         0.019278   \n",
              "2           FDN15        17.50          Low Fat         0.016760   \n",
              "3           FDX07        19.20          Regular         0.000000   \n",
              "4           NCD19         8.93          Low Fat         0.000000   \n",
              "\n",
              "               Item_Type  Item_MRP Outlet_Identifier  \\\n",
              "0                  Dairy  249.8092            OUT049   \n",
              "1            Soft Drinks   48.2692            OUT018   \n",
              "2                   Meat  141.6180            OUT049   \n",
              "3  Fruits and Vegetables  182.0950            OUT010   \n",
              "4              Household   53.8614            OUT013   \n",
              "\n",
              "   Outlet_Establishment_Year Outlet_Size Outlet_Location_Type  \\\n",
              "0                       1999      Medium               Tier 1   \n",
              "1                       2009      Medium               Tier 3   \n",
              "2                       1999      Medium               Tier 1   \n",
              "3                       1998         NaN               Tier 3   \n",
              "4                       1987        High               Tier 3   \n",
              "\n",
              "         Outlet_Type  Item_Outlet_Sales  \n",
              "0  Supermarket Type1          3735.1380  \n",
              "1  Supermarket Type2           443.4228  \n",
              "2  Supermarket Type1          2097.2700  \n",
              "3      Grocery Store           732.3800  \n",
              "4  Supermarket Type1           994.7052  "
            ],
            "text/html": [
              "\n",
              "  <div id=\"df-c7064a59-9db7-4dd6-bc09-86a4847d767f\">\n",
              "    <div class=\"colab-df-container\">\n",
              "      <div>\n",
              "<style scoped>\n",
              "    .dataframe tbody tr th:only-of-type {\n",
              "        vertical-align: middle;\n",
              "    }\n",
              "\n",
              "    .dataframe tbody tr th {\n",
              "        vertical-align: top;\n",
              "    }\n",
              "\n",
              "    .dataframe thead th {\n",
              "        text-align: right;\n",
              "    }\n",
              "</style>\n",
              "<table border=\"1\" class=\"dataframe\">\n",
              "  <thead>\n",
              "    <tr style=\"text-align: right;\">\n",
              "      <th></th>\n",
              "      <th>Item_Identifier</th>\n",
              "      <th>Item_Weight</th>\n",
              "      <th>Item_Fat_Content</th>\n",
              "      <th>Item_Visibility</th>\n",
              "      <th>Item_Type</th>\n",
              "      <th>Item_MRP</th>\n",
              "      <th>Outlet_Identifier</th>\n",
              "      <th>Outlet_Establishment_Year</th>\n",
              "      <th>Outlet_Size</th>\n",
              "      <th>Outlet_Location_Type</th>\n",
              "      <th>Outlet_Type</th>\n",
              "      <th>Item_Outlet_Sales</th>\n",
              "    </tr>\n",
              "  </thead>\n",
              "  <tbody>\n",
              "    <tr>\n",
              "      <th>0</th>\n",
              "      <td>FDA15</td>\n",
              "      <td>9.30</td>\n",
              "      <td>Low Fat</td>\n",
              "      <td>0.016047</td>\n",
              "      <td>Dairy</td>\n",
              "      <td>249.8092</td>\n",
              "      <td>OUT049</td>\n",
              "      <td>1999</td>\n",
              "      <td>Medium</td>\n",
              "      <td>Tier 1</td>\n",
              "      <td>Supermarket Type1</td>\n",
              "      <td>3735.1380</td>\n",
              "    </tr>\n",
              "    <tr>\n",
              "      <th>1</th>\n",
              "      <td>DRC01</td>\n",
              "      <td>5.92</td>\n",
              "      <td>Regular</td>\n",
              "      <td>0.019278</td>\n",
              "      <td>Soft Drinks</td>\n",
              "      <td>48.2692</td>\n",
              "      <td>OUT018</td>\n",
              "      <td>2009</td>\n",
              "      <td>Medium</td>\n",
              "      <td>Tier 3</td>\n",
              "      <td>Supermarket Type2</td>\n",
              "      <td>443.4228</td>\n",
              "    </tr>\n",
              "    <tr>\n",
              "      <th>2</th>\n",
              "      <td>FDN15</td>\n",
              "      <td>17.50</td>\n",
              "      <td>Low Fat</td>\n",
              "      <td>0.016760</td>\n",
              "      <td>Meat</td>\n",
              "      <td>141.6180</td>\n",
              "      <td>OUT049</td>\n",
              "      <td>1999</td>\n",
              "      <td>Medium</td>\n",
              "      <td>Tier 1</td>\n",
              "      <td>Supermarket Type1</td>\n",
              "      <td>2097.2700</td>\n",
              "    </tr>\n",
              "    <tr>\n",
              "      <th>3</th>\n",
              "      <td>FDX07</td>\n",
              "      <td>19.20</td>\n",
              "      <td>Regular</td>\n",
              "      <td>0.000000</td>\n",
              "      <td>Fruits and Vegetables</td>\n",
              "      <td>182.0950</td>\n",
              "      <td>OUT010</td>\n",
              "      <td>1998</td>\n",
              "      <td>NaN</td>\n",
              "      <td>Tier 3</td>\n",
              "      <td>Grocery Store</td>\n",
              "      <td>732.3800</td>\n",
              "    </tr>\n",
              "    <tr>\n",
              "      <th>4</th>\n",
              "      <td>NCD19</td>\n",
              "      <td>8.93</td>\n",
              "      <td>Low Fat</td>\n",
              "      <td>0.000000</td>\n",
              "      <td>Household</td>\n",
              "      <td>53.8614</td>\n",
              "      <td>OUT013</td>\n",
              "      <td>1987</td>\n",
              "      <td>High</td>\n",
              "      <td>Tier 3</td>\n",
              "      <td>Supermarket Type1</td>\n",
              "      <td>994.7052</td>\n",
              "    </tr>\n",
              "  </tbody>\n",
              "</table>\n",
              "</div>\n",
              "      <button class=\"colab-df-convert\" onclick=\"convertToInteractive('df-c7064a59-9db7-4dd6-bc09-86a4847d767f')\"\n",
              "              title=\"Convert this dataframe to an interactive table.\"\n",
              "              style=\"display:none;\">\n",
              "        \n",
              "  <svg xmlns=\"http://www.w3.org/2000/svg\" height=\"24px\"viewBox=\"0 0 24 24\"\n",
              "       width=\"24px\">\n",
              "    <path d=\"M0 0h24v24H0V0z\" fill=\"none\"/>\n",
              "    <path d=\"M18.56 5.44l.94 2.06.94-2.06 2.06-.94-2.06-.94-.94-2.06-.94 2.06-2.06.94zm-11 1L8.5 8.5l.94-2.06 2.06-.94-2.06-.94L8.5 2.5l-.94 2.06-2.06.94zm10 10l.94 2.06.94-2.06 2.06-.94-2.06-.94-.94-2.06-.94 2.06-2.06.94z\"/><path d=\"M17.41 7.96l-1.37-1.37c-.4-.4-.92-.59-1.43-.59-.52 0-1.04.2-1.43.59L10.3 9.45l-7.72 7.72c-.78.78-.78 2.05 0 2.83L4 21.41c.39.39.9.59 1.41.59.51 0 1.02-.2 1.41-.59l7.78-7.78 2.81-2.81c.8-.78.8-2.07 0-2.86zM5.41 20L4 18.59l7.72-7.72 1.47 1.35L5.41 20z\"/>\n",
              "  </svg>\n",
              "      </button>\n",
              "      \n",
              "  <style>\n",
              "    .colab-df-container {\n",
              "      display:flex;\n",
              "      flex-wrap:wrap;\n",
              "      gap: 12px;\n",
              "    }\n",
              "\n",
              "    .colab-df-convert {\n",
              "      background-color: #E8F0FE;\n",
              "      border: none;\n",
              "      border-radius: 50%;\n",
              "      cursor: pointer;\n",
              "      display: none;\n",
              "      fill: #1967D2;\n",
              "      height: 32px;\n",
              "      padding: 0 0 0 0;\n",
              "      width: 32px;\n",
              "    }\n",
              "\n",
              "    .colab-df-convert:hover {\n",
              "      background-color: #E2EBFA;\n",
              "      box-shadow: 0px 1px 2px rgba(60, 64, 67, 0.3), 0px 1px 3px 1px rgba(60, 64, 67, 0.15);\n",
              "      fill: #174EA6;\n",
              "    }\n",
              "\n",
              "    [theme=dark] .colab-df-convert {\n",
              "      background-color: #3B4455;\n",
              "      fill: #D2E3FC;\n",
              "    }\n",
              "\n",
              "    [theme=dark] .colab-df-convert:hover {\n",
              "      background-color: #434B5C;\n",
              "      box-shadow: 0px 1px 3px 1px rgba(0, 0, 0, 0.15);\n",
              "      filter: drop-shadow(0px 1px 2px rgba(0, 0, 0, 0.3));\n",
              "      fill: #FFFFFF;\n",
              "    }\n",
              "  </style>\n",
              "\n",
              "      <script>\n",
              "        const buttonEl =\n",
              "          document.querySelector('#df-c7064a59-9db7-4dd6-bc09-86a4847d767f button.colab-df-convert');\n",
              "        buttonEl.style.display =\n",
              "          google.colab.kernel.accessAllowed ? 'block' : 'none';\n",
              "\n",
              "        async function convertToInteractive(key) {\n",
              "          const element = document.querySelector('#df-c7064a59-9db7-4dd6-bc09-86a4847d767f');\n",
              "          const dataTable =\n",
              "            await google.colab.kernel.invokeFunction('convertToInteractive',\n",
              "                                                     [key], {});\n",
              "          if (!dataTable) return;\n",
              "\n",
              "          const docLinkHtml = 'Like what you see? Visit the ' +\n",
              "            '<a target=\"_blank\" href=https://colab.research.google.com/notebooks/data_table.ipynb>data table notebook</a>'\n",
              "            + ' to learn more about interactive tables.';\n",
              "          element.innerHTML = '';\n",
              "          dataTable['output_type'] = 'display_data';\n",
              "          await google.colab.output.renderOutput(dataTable, element);\n",
              "          const docLink = document.createElement('div');\n",
              "          docLink.innerHTML = docLinkHtml;\n",
              "          element.appendChild(docLink);\n",
              "        }\n",
              "      </script>\n",
              "    </div>\n",
              "  </div>\n",
              "  "
            ]
          },
          "metadata": {},
          "execution_count": 51
        }
      ],
      "source": [
        "import pandas as pd\n",
        "sales= '/content/sales_predictions_2023 (2).csv'\n",
        "df = pd.read_csv(sales)\n",
        "df.head()"
      ]
    },
    {
      "cell_type": "code",
      "source": [
        "df.shape"
      ],
      "metadata": {
        "id": "RmcYKfdO8kuF",
        "outputId": "a69e5ce4-2738-4999-fcd1-dc7579d3077e",
        "colab": {
          "base_uri": "https://localhost:8080/"
        }
      },
      "execution_count": 52,
      "outputs": [
        {
          "output_type": "execute_result",
          "data": {
            "text/plain": [
              "(8523, 12)"
            ]
          },
          "metadata": {},
          "execution_count": 52
        }
      ]
    },
    {
      "cell_type": "code",
      "source": [
        "df.dtypes"
      ],
      "metadata": {
        "id": "aB8WCJTm9X_i",
        "outputId": "80749d0c-c6ce-4363-f0fc-227743c7242d",
        "colab": {
          "base_uri": "https://localhost:8080/"
        }
      },
      "execution_count": 53,
      "outputs": [
        {
          "output_type": "execute_result",
          "data": {
            "text/plain": [
              "Item_Identifier               object\n",
              "Item_Weight                  float64\n",
              "Item_Fat_Content              object\n",
              "Item_Visibility              float64\n",
              "Item_Type                     object\n",
              "Item_MRP                     float64\n",
              "Outlet_Identifier             object\n",
              "Outlet_Establishment_Year      int64\n",
              "Outlet_Size                   object\n",
              "Outlet_Location_Type          object\n",
              "Outlet_Type                   object\n",
              "Item_Outlet_Sales            float64\n",
              "dtype: object"
            ]
          },
          "metadata": {},
          "execution_count": 53
        }
      ]
    },
    {
      "cell_type": "code",
      "source": [
        "df.duplicated().sum()"
      ],
      "metadata": {
        "id": "588MEYAp9dns",
        "outputId": "add6f381-9446-4299-d7ee-f1828ba8cd1b",
        "colab": {
          "base_uri": "https://localhost:8080/"
        }
      },
      "execution_count": 54,
      "outputs": [
        {
          "output_type": "execute_result",
          "data": {
            "text/plain": [
              "0"
            ]
          },
          "metadata": {},
          "execution_count": 54
        }
      ]
    },
    {
      "cell_type": "code",
      "source": [
        "df.isna().sum()"
      ],
      "metadata": {
        "id": "_rb88HzsArtc",
        "outputId": "962712d2-a0e9-4fe2-8bc9-93645dea75ab",
        "colab": {
          "base_uri": "https://localhost:8080/"
        }
      },
      "execution_count": 55,
      "outputs": [
        {
          "output_type": "execute_result",
          "data": {
            "text/plain": [
              "Item_Identifier                 0\n",
              "Item_Weight                  1463\n",
              "Item_Fat_Content                0\n",
              "Item_Visibility                 0\n",
              "Item_Type                       0\n",
              "Item_MRP                        0\n",
              "Outlet_Identifier               0\n",
              "Outlet_Establishment_Year       0\n",
              "Outlet_Size                  2410\n",
              "Outlet_Location_Type            0\n",
              "Outlet_Type                     0\n",
              "Item_Outlet_Sales               0\n",
              "dtype: int64"
            ]
          },
          "metadata": {},
          "execution_count": 55
        }
      ]
    },
    {
      "cell_type": "code",
      "source": [
        "df['Item_Weight'].fillna(df['Item_Weight'].mean(), inplace=True)\n",
        "df['Outlet_Size'].fillna('not available', inplace=True)\n",
        "df.isna().sum()"
      ],
      "metadata": {
        "id": "YNXrP-50IJ5v",
        "outputId": "b5232224-255b-4d50-851a-f28f5800fe34",
        "colab": {
          "base_uri": "https://localhost:8080/"
        }
      },
      "execution_count": 56,
      "outputs": [
        {
          "output_type": "execute_result",
          "data": {
            "text/plain": [
              "Item_Identifier              0\n",
              "Item_Weight                  0\n",
              "Item_Fat_Content             0\n",
              "Item_Visibility              0\n",
              "Item_Type                    0\n",
              "Item_MRP                     0\n",
              "Outlet_Identifier            0\n",
              "Outlet_Establishment_Year    0\n",
              "Outlet_Size                  0\n",
              "Outlet_Location_Type         0\n",
              "Outlet_Type                  0\n",
              "Item_Outlet_Sales            0\n",
              "dtype: int64"
            ]
          },
          "metadata": {},
          "execution_count": 56
        }
      ]
    },
    {
      "cell_type": "code",
      "source": [
        "for col in df:\n",
        "  print(df[col].unique())"
      ],
      "metadata": {
        "colab": {
          "base_uri": "https://localhost:8080/"
        },
        "id": "GJ73vMA9hwVw",
        "outputId": "2f79a518-85d8-4086-a139-4043f80c8c6c"
      },
      "execution_count": 57,
      "outputs": [
        {
          "output_type": "stream",
          "name": "stdout",
          "text": [
            "['FDA15' 'DRC01' 'FDN15' ... 'NCF55' 'NCW30' 'NCW05']\n",
            "[ 9.3         5.92       17.5        19.2         8.93       10.395\n",
            " 13.65       12.85764518 16.2        11.8        18.5        15.1\n",
            " 17.6        16.35        9.         13.35       18.85       14.6\n",
            " 13.85       13.          7.645      11.65        5.925      19.25\n",
            " 18.6        18.7        17.85       10.          8.85        9.8\n",
            " 13.6        21.35       12.15        6.42       19.6        15.85\n",
            "  7.39       10.195       9.895      10.895       7.905       9.195\n",
            "  8.365       7.97       17.7        19.35        8.645      15.6\n",
            " 18.25        7.855       7.825       8.39       12.85       19.\n",
            "  5.905       7.76       16.75       15.5         6.055       6.305\n",
            " 20.85       20.75        8.895      19.7         8.75       13.3\n",
            "  8.31       19.75       17.1        10.5         6.635      14.15\n",
            "  8.89        9.1         7.5        16.85        7.485      11.6\n",
            " 12.65       20.25        8.6        12.6         8.88       20.5\n",
            " 13.5         7.235       6.92        8.02       12.8        16.6\n",
            " 14.         16.         21.25        7.365      18.35        5.465\n",
            "  7.27        6.155      19.5        15.2        14.5        13.1\n",
            " 12.3        11.1        11.3         5.75       11.35        6.525\n",
            " 10.3         5.78       11.85       18.75        5.26       16.1\n",
            "  9.5        13.8        14.65        6.67        6.11       17.2\n",
            "  6.32        4.88        5.425      14.1         7.55       17.25\n",
            " 12.         10.1         7.785      13.15        8.5         7.63\n",
            "  9.285       7.975      15.7         8.985      20.35        6.59\n",
            " 19.85        6.26       18.2         8.695       7.075       8.195\n",
            "  7.09        6.095       6.15        9.395      15.75        7.475\n",
            "  6.445      19.1        15.         16.7         7.07        6.48\n",
            "  9.695      11.15        9.6        20.7         5.5         7.895\n",
            " 17.35        7.285       6.17       11.395       7.71       12.1\n",
            " 14.35        8.1         8.05       16.5         6.785       7.575\n",
            "  7.47       15.25        7.605      18.         21.2         8.97\n",
            " 10.6         6.865      10.8        15.15       18.1         6.655\n",
            " 20.1         7.935      15.35       12.35        6.85        8.775\n",
            " 14.85        7.84       12.5         8.325       5.765       5.985\n",
            " 14.3         6.135       8.51        6.65        5.695       6.36\n",
            "  8.3         7.56        8.71        6.695      14.8        17.75\n",
            "  8.575       6.57        8.68        5.63        9.13        6.715\n",
            "  5.82        7.93        5.          7.445       6.675       8.18\n",
            "  6.98        7.435      20.6         8.355       8.975      20.2\n",
            "  5.655       5.175      20.          7.67        4.785       8.395\n",
            "  6.175       8.21        5.845       7.17        8.785       7.89\n",
            "  5.32        5.03        8.945       6.28        7.565       9.31\n",
            "  7.02        5.46        6.13        6.55       17.         16.25\n",
            "  5.15        7.865       6.575       7.06        5.785       7.42\n",
            "  6.235       6.75        5.86        5.035       6.38        5.675\n",
            " 11.5        21.         21.1         4.61        7.          6.405\n",
            " 14.7         7.68        8.185       8.655      10.85        8.42\n",
            "  7.85        4.59        7.51       11.          6.71       14.75\n",
            "  7.59        5.155       6.365       8.235       5.365       8.485\n",
            "  7.535       4.92        6.385       8.26        7.945       8.63\n",
            "  9.21        6.965       8.905       7.21        7.3         9.27\n",
            " 10.695       6.215       7.405       7.72        6.115       6.035\n",
            "  6.78       15.3         7.105       7.52        4.805       6.425\n",
            "  7.6         6.61        7.325       8.115       5.94        5.635\n",
            "  7.35        5.825       6.63        7.05        8.315       6.8\n",
            "  7.035       8.96        5.51        8.43        8.27        7.81\n",
            "  6.885       5.44        5.405       4.635      10.65        5.735\n",
            "  6.465       8.84        7.75        6.765       9.065       7.655\n",
            "  4.615       8.76        7.1         6.195       5.615       8.52\n",
            "  7.26        6.825       5.325       5.59        5.88        5.19\n",
            "  6.985       9.06        6.69        8.615       7.275       6.96\n",
            "  9.17        8.155       5.73        8.935       8.92        7.36\n",
            "  7.64        5.34        7.22        6.615       6.76        6.3\n",
            "  5.98        8.06        6.44        5.095       8.8         6.325\n",
            "  7.31        9.035       9.105       7.145       4.905       4.555\n",
            "  8.          7.315       6.89        5.945       6.86        6.935\n",
            "  6.03        7.725       5.885       7.155       6.46        5.48\n",
            "  8.01        5.8         5.305       6.905       7.96        5.11\n",
            "  8.77        7.685       8.275       8.38        8.35        9.42\n",
            "  6.775       6.4         6.895       5.485       6.52        8.67\n",
            "  5.21        5.4       ]\n",
            "['Low Fat' 'Regular' 'low fat' 'LF' 'reg']\n",
            "[0.0160473  0.01927822 0.01676007 ... 0.03518627 0.14522065 0.04487828]\n",
            "['Dairy' 'Soft Drinks' 'Meat' 'Fruits and Vegetables' 'Household'\n",
            " 'Baking Goods' 'Snack Foods' 'Frozen Foods' 'Breakfast'\n",
            " 'Health and Hygiene' 'Hard Drinks' 'Canned' 'Breads' 'Starchy Foods'\n",
            " 'Others' 'Seafood']\n",
            "[249.8092  48.2692 141.618  ...  57.5904 214.5218  75.467 ]\n",
            "['OUT049' 'OUT018' 'OUT010' 'OUT013' 'OUT027' 'OUT045' 'OUT017' 'OUT046'\n",
            " 'OUT035' 'OUT019']\n",
            "[1999 2009 1998 1987 1985 2002 2007 1997 2004]\n",
            "['Medium' 'not available' 'High' 'Small']\n",
            "['Tier 1' 'Tier 3' 'Tier 2']\n",
            "['Supermarket Type1' 'Supermarket Type2' 'Grocery Store'\n",
            " 'Supermarket Type3']\n",
            "[3735.138   443.4228 2097.27   ... 7182.6504 3608.636  2778.3834]\n"
          ]
        }
      ]
    },
    {
      "cell_type": "code",
      "source": [],
      "metadata": {
        "id": "v9ww68I8jx_b"
      },
      "execution_count": 57,
      "outputs": []
    },
    {
      "cell_type": "code",
      "source": [
        "df['Item_Fat_Content'] = df['Item_Fat_Content'].replace(['LF'], 'Low Fat')\n",
        "df['Item_Fat_Content'] = df['Item_Fat_Content'].replace(['low fat'], 'Low Fat')\n",
        "df['Item_Fat_Content'] = df['Item_Fat_Content'].replace(['reg'], 'Regular')\n",
        "df['Item_Fat_Content'].unique()\n"
      ],
      "metadata": {
        "colab": {
          "base_uri": "https://localhost:8080/"
        },
        "id": "Ekq0nbhBZNSu",
        "outputId": "12278bec-ede2-4dae-f857-af3f4cd2782b"
      },
      "execution_count": 58,
      "outputs": [
        {
          "output_type": "execute_result",
          "data": {
            "text/plain": [
              "array(['Low Fat', 'Regular'], dtype=object)"
            ]
          },
          "metadata": {},
          "execution_count": 58
        }
      ]
    },
    {
      "cell_type": "code",
      "source": [
        "import numpy as np\n",
        "for col in df.columns:\n",
        "    if(df[col].dtype == np.float64 or df[col].dtype == np.int64):\n",
        "          print(df[col].name, 'mean is ', df[col].mean())\n",
        "          print(df[col].name, 'min is ', df[col].min())\n",
        "          print(df[col].name, 'max is ', df[col].max())\n"
      ],
      "metadata": {
        "colab": {
          "base_uri": "https://localhost:8080/"
        },
        "id": "D66NdMzCj0jb",
        "outputId": "142fdfc1-86a1-45ff-9ac3-23e07b789c28"
      },
      "execution_count": 59,
      "outputs": [
        {
          "output_type": "stream",
          "name": "stdout",
          "text": [
            "Item_Weight mean is  12.857645184135976\n",
            "Item_Weight min is  4.555\n",
            "Item_Weight max is  21.35\n",
            "Item_Visibility mean is  0.06613202877895108\n",
            "Item_Visibility min is  0.0\n",
            "Item_Visibility max is  0.328390948\n",
            "Item_MRP mean is  140.9927819781767\n",
            "Item_MRP min is  31.29\n",
            "Item_MRP max is  266.8884\n",
            "Outlet_Establishment_Year mean is  1997.8318667135984\n",
            "Outlet_Establishment_Year min is  1985\n",
            "Outlet_Establishment_Year max is  2009\n",
            "Item_Outlet_Sales mean is  2181.288913575032\n",
            "Item_Outlet_Sales min is  33.29\n",
            "Item_Outlet_Sales max is  13086.9648\n"
          ]
        }
      ]
    },
    {
      "cell_type": "code",
      "source": [],
      "metadata": {
        "id": "VYAatrPOmiJ2"
      },
      "execution_count": null,
      "outputs": []
    },
    {
      "cell_type": "code",
      "source": [],
      "metadata": {
        "id": "H287LLHTmks_"
      },
      "execution_count": null,
      "outputs": []
    }
  ]
}